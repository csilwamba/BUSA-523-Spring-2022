{
 "cells": [
  {
   "cell_type": "code",
   "execution_count": null,
   "id": "5c9554ea",
   "metadata": {},
   "outputs": [],
   "source": [
    "# Q1\n",
    "\n",
    "class StudentRecords:\n",
    "    def __init__(self,fName,lName,country,overallGrade,creditsCompleted,major):\n",
    "        self.fName = fName\n",
    "        self.lName = lName\n",
    "        self.country = country\n",
    "        self.overallGrade = overallGrade\n",
    "        self.creditsCompleted = creditsCompleted\n",
    "        self.major = major\n",
    "\n",
    "    def evaluateProgress(self):\n",
    "        if (self.overallGrade > 3) and (self.creditsCompleted > 20):\n",
    "            print('Good')\n",
    "        elif (self.overallGrade > 2.5) and ((self.creditsCompleted >= 10) and (self.creditsCompleted <= 20)):\n",
    "            print('Average')\n",
    "        else:\n",
    "            print(\"Below Average\") \n",
    "\n",
    "    def displayAttributes(self):\n",
    "        print(f'First Name: {self.fName} Last Name: {self.lName}')\n",
    "        print(f'Country: {self.country}')\n",
    "        print(f'Overall Grade: {self.overallGrade} Credits Completed: {self.creditsCompleted}')\n",
    "        print(f'Major: {self.major}')\n",
    "\n",
    "print('                                            ')\n",
    "print('Student Report')\n",
    "print('********************************************')\n",
    "s1 = StudentRecords(fName='Cliff',lName='Silwamba',country=\"Zambia\",overallGrade=3,creditsCompleted=15,major='Business Analytics')\n",
    "s1.evaluateProgress()\n",
    "s1.displayAttributes()\n",
    "print('--------------------------------------------')\n",
    "s2 = StudentRecords(fName='Will',lName='Smith',country=\"USA\",overallGrade=4,creditsCompleted=25,major='Language Arts')\n",
    "s2.evaluateProgress()\n",
    "s2.displayAttributes()\n",
    "print('---------------------------------------------')\n",
    "s3 = StudentRecords(fName='Joseph',lName='Biden',country=\"USA\",overallGrade=1.5,creditsCompleted=8,major='Political Science')\n",
    "s3.evaluateProgress()\n",
    "s3.displayAttributes()"
   ]
  },
  {
   "cell_type": "code",
   "execution_count": 36,
   "id": "164e26a9",
   "metadata": {},
   "outputs": [
    {
     "name": "stdout",
     "output_type": "stream",
     "text": [
      "Pos: [5, 1, 9, 3]\n",
      "Neg: [-6, -3, -2, -8]\n"
     ]
    }
   ],
   "source": [
    "# Q2\n",
    "\n",
    "def NegPos(NumberList):\n",
    "    positive = [] # 1 step O(1)\n",
    "    negative = [] # 1 step O(1)\n",
    "\n",
    "    \n",
    "    # Let steps depend on the length of list \n",
    "    \n",
    "    for num in NumberList:\n",
    "        # \n",
    "        if num > 0: # 1 step O(1)\n",
    "            \n",
    "            positive.append(num) # 1 step O(1) \n",
    "            \n",
    "        elif num < 0: # 1 step O(1)\n",
    "            \n",
    "            negative.append(num) # 1 step O(1)\n",
    "\n",
    "    print('Pos:',positive) # 1 step O(1)\n",
    "    print('Neg:',negative) # 1 step O(1)\n",
    "\n",
    "NumberList = [-6,5,-3,-2,1,0,-8,9,3] # 1 step O(1)\n",
    "NegPos(NumberList)"
   ]
  },
  {
   "cell_type": "code",
   "execution_count": 38,
   "id": "96053afc",
   "metadata": {},
   "outputs": [
    {
     "name": "stdout",
     "output_type": "stream",
     "text": [
      "Enter score: 19\n",
      "[(9, 11), (10, 10), (10, 11)]\n"
     ]
    }
   ],
   "source": [
    "# Q3\n",
    "\n",
    "def possibleWins(finalScore):\n",
    "\n",
    "    possibilities = [] # 1 step O(1)\n",
    "\n",
    "    # a for loop within a for loop is O(n^2)\n",
    "    \n",
    "    for i in range(1,12): \n",
    "        \n",
    "        for j in range(1,12):\n",
    "           \n",
    "            if ((i + j) > finalScore):\n",
    "                \n",
    "                if ((i,j) not in possibilities) and ((j,i) not in possibilities) and ((j,i) != (11,11)) and ((i,j) != (11,11)):\n",
    "                    possibilities.append((i,j))\n",
    "\n",
    "    print(possibilities) # 1 step O(1)\n",
    "\n",
    "finalScore = int(input(\"Enter score: \")) # 1 step O(1)\n",
    "possibleWins(finalScore)"
   ]
  },
  {
   "cell_type": "code",
   "execution_count": 39,
   "id": "e8d315ca",
   "metadata": {},
   "outputs": [],
   "source": [
    "# Q4\n",
    "\n",
    "# From Q2\n",
    "# O(1) + O(1) + O(1) + O(n) + O(1) + O(1) \n",
    "# O(5) + O(n)\n",
    "# Big O: O(n)\n",
    "\n",
    "#From Q 3\n",
    "\n",
    "# O(1) + O(1) + O(n^2) # O(1)\n",
    "# O(3) + O(n^2)\n",
    "# Big O: O(n^2)\n"
   ]
  }
 ],
 "metadata": {
  "kernelspec": {
   "display_name": "Python 3 (ipykernel)",
   "language": "python",
   "name": "python3"
  },
  "language_info": {
   "codemirror_mode": {
    "name": "ipython",
    "version": 3
   },
   "file_extension": ".py",
   "mimetype": "text/x-python",
   "name": "python",
   "nbconvert_exporter": "python",
   "pygments_lexer": "ipython3",
   "version": "3.9.7"
  }
 },
 "nbformat": 4,
 "nbformat_minor": 5
}
