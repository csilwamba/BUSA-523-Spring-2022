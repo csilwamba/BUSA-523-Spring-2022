{
 "cells": [
  {
   "cell_type": "code",
   "execution_count": 1,
   "id": "2356b9dd",
   "metadata": {},
   "outputs": [
    {
     "name": "stdout",
     "output_type": "stream",
     "text": [
      "309\n"
     ]
    }
   ],
   "source": [
    "# Q1 Write a program for flipping a coin 10,000 times and store the results in a list. \n",
    "# After which, identify the number of streaks. (streak - a series of 5 or more heads or tails).\n",
    "\n",
    "import random\n",
    "choices = ['Heads','Tails']\n",
    "\n",
    "def count_streaks(results):\n",
    "    streaks, current_streak, current_count = 0,results[0],0\n",
    "    for i in range(len(results)):\n",
    "        if results[i] == current_streak:\n",
    "            current_count+=1\n",
    "        else:\n",
    "            if current_count >= 5:\n",
    "                streaks+=1\n",
    "                \n",
    "            current_streak, current_count = results[i],1\n",
    "    return streaks\n",
    "\n",
    "results = random.choices(choices,k=10000)\n",
    "print(count_streaks(results))"
   ]
  },
  {
   "cell_type": "code",
   "execution_count": 2,
   "id": "56240804",
   "metadata": {},
   "outputs": [
    {
     "name": "stdout",
     "output_type": "stream",
     "text": [
      "Enter the number of swords: 5\n",
      "Enter the number of diamonds: 10\n",
      "Enter the number of gold coins: 6\n",
      "Enter the number of rope: 3\n",
      "Enter the number of potions: 2\n",
      "Inventory:\n",
      "5 swords\n",
      "10 diamonds\n",
      "6 gold coins\n",
      "3 rope\n",
      "2 potions\n"
     ]
    }
   ],
   "source": [
    "# Q2\n",
    "\n",
    "items = ['swords','diamonds','gold coins','rope','potions']\n",
    "inventory = {}\n",
    "\n",
    "for item in items:\n",
    "    inventory[item] = int(input('Enter the number of {}: '.format(item)))\n",
    "\n",
    "print(\"Inventory:\")\n",
    "\n",
    "for cnt,item in inventory.items():\n",
    "    \n",
    "    \n",
    "    print(item, cnt)"
   ]
  },
  {
   "cell_type": "code",
   "execution_count": 3,
   "id": "a129dcba",
   "metadata": {},
   "outputs": [
    {
     "name": "stdout",
     "output_type": "stream",
     "text": [
      "315\n"
     ]
    }
   ],
   "source": [
    "# Q3 Repeat question 1 using arrays\n",
    "\n",
    "import random\n",
    "\n",
    "# Create list\n",
    "arry = []\n",
    "\n",
    "for i in range(10000):\n",
    "\n",
    "# outputs 1 and 2\n",
    "    out = random.randint(1,2)\n",
    "# Create array from list\n",
    "    arry.append(out)\n",
    "\n",
    "prev = arry[0]\n",
    "temp = 1\n",
    "\n",
    "streak_count = 0\n",
    "for i in range(1,10000):\n",
    "\n",
    "    if(prev==arry[i]):\n",
    "        temp+=1\n",
    "    else:\n",
    "\n",
    "        if(temp >= 5):\n",
    "\n",
    "            streak_count+=1\n",
    "\n",
    "        temp=1\n",
    "\n",
    "    prev = arry[i]\n",
    "print(streak_count)"
   ]
  },
  {
   "cell_type": "code",
   "execution_count": 7,
   "id": "108b1947",
   "metadata": {},
   "outputs": [
    {
     "name": "stdout",
     "output_type": "stream",
     "text": [
      "The Winner of the game is Player 2\n"
     ]
    }
   ],
   "source": [
    "# Q4\n",
    "\n",
    "import random\n",
    "\n",
    "num_players, num_iterations = 3,10\n",
    "scores = [0]*num_players\n",
    "\n",
    "for i in range(num_iterations):\n",
    "    \n",
    "    # Every player rolls a dice\n",
    "    for player in range(num_players):\n",
    "        scores[player] += random.randint(1,6)\n",
    "\n",
    "winner = max(enumerate(scores), key=lambda scores:scores[1])[0] + 1\n",
    "print('The Winner of the game is Player {}'.format(winner))"
   ]
  }
 ],
 "metadata": {
  "kernelspec": {
   "display_name": "Python 3 (ipykernel)",
   "language": "python",
   "name": "python3"
  },
  "language_info": {
   "codemirror_mode": {
    "name": "ipython",
    "version": 3
   },
   "file_extension": ".py",
   "mimetype": "text/x-python",
   "name": "python",
   "nbconvert_exporter": "python",
   "pygments_lexer": "ipython3",
   "version": "3.9.7"
  }
 },
 "nbformat": 4,
 "nbformat_minor": 5
}
